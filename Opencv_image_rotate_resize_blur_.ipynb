{
 "cells": [
  {
   "cell_type": "raw",
   "metadata": {},
   "source": [
    "READING AN IMAGE AND RESIZE THE IMAGE AND BLUR THE IMAGE AND ROTATE THE IMAGE"
   ]
  },
  {
   "cell_type": "code",
   "execution_count": 1,
   "metadata": {},
   "outputs": [],
   "source": [
    "import cv2"
   ]
  },
  {
   "cell_type": "code",
   "execution_count": 4,
   "metadata": {},
   "outputs": [
    {
     "name": "stdout",
     "output_type": "stream",
     "text": [
      "Resized the Image\n",
      "Resized Dimensions :  (324, 576, 3)\n"
     ]
    }
   ],
   "source": [
    "class Switcher(object):\n",
    "        def indirect(self,i):\n",
    "            method_name='number_'+str(i)\n",
    "            method=getattr(self,method_name,lambda :'Wrong iput')\n",
    "            return method()\n",
    "        def number_0(self):\n",
    "            print(\"Read An Image\")\n",
    "            my_img = cv2.imread(r'E:\\Alien Brains\\nature_1.jpg')\n",
    "            cv2.imshow('image', my_img)\n",
    "            print('Image Dimensions :', my_img.shape)\n",
    "            cv2.waitKey(0)    \n",
    "        def number_1(self):\n",
    "            print(\"Resized the Image\")\n",
    "            img = cv2.imread(r'E:\\Alien Brains\\nature_1.jpg',1)  \n",
    "            scale = 60  \n",
    "            width = int(img.shape[1] * scale / 100)  \n",
    "            height = int(img.shape[0] * scale / 100)  \n",
    "            dim = (width, height)  \n",
    "            # resize image  \n",
    "            resized = cv2.resize(img, dim, interpolation=cv2.INTER_AREA)  \n",
    "            print('Resized Dimensions : ', resized.shape)  \n",
    "            cv2.imshow(\"Resized image\", resized)  \n",
    "            cv2.waitKey(0)\n",
    "                                   \n",
    "        def number_2(self):\n",
    "            print(\"Blured the Image\")\n",
    "            im = cv2.imread(r'E:\\Alien Brains\\nature_1.jpg',1) \n",
    "            cv2.imshow('Original Image',im)  \n",
    "            cv2.imshow('Blurred Image', cv2.blur(im, (5,5)))  \n",
    "            cv2.waitKey(0)\n",
    "        def number_3(self):\n",
    "            print(\"Rotating the Image\")\n",
    "            img = cv2.imread(r'E:\\Alien Brains\\nature_1.jpg')\n",
    "            # get image height, width  \n",
    "            (h, w) = img.shape[:2]  \n",
    "            # calculate the center of the image  \n",
    "            center = (w / 2, h / 2)  \n",
    "  \n",
    "            angle90 = 90  \n",
    "            angle180 = 180  \n",
    "            angle270 = 270   \n",
    "            scale = 1.0  \n",
    "            # 90 degrees  \n",
    "            M = cv2.getRotationMatrix2D(center, angle90, scale)  \n",
    "            rotated90 = cv2.warpAffine(img, M, (h, w))    \n",
    "            # 180 degrees  \n",
    "            M = cv2.getRotationMatrix2D(center, angle180, scale)  \n",
    "            rotated180 = cv2.warpAffine(img, M, (w, h))  \n",
    "            cv2.imshow('Original Image', img)  \n",
    "            cv2.waitKey(0)  # waits until a key is pressed  \n",
    "            cv2.destroyAllWindows()  # destroys the window showing image  \n",
    "  \n",
    "            cv2.imshow('Image rotated by 90 degrees', rotated90)  \n",
    "            cv2.waitKey(0)  # waits until a key is pressed  \n",
    "            cv2.destroyAllWindows()  # destroys the window showing imag  \n",
    "  \n",
    "            cv2.imshow('Image rotated by 180 degrees', rotated180)  \n",
    "            cv2.waitKey(0)  # waits until a key is pressed  \n",
    "            cv2.destroyAllWindows()  # destroys the window showing image  \n",
    "s=Switcher()\n",
    "s.indirect(1)"
   ]
  },
  {
   "cell_type": "code",
   "execution_count": null,
   "metadata": {},
   "outputs": [],
   "source": []
  }
 ],
 "metadata": {
  "kernelspec": {
   "display_name": "Python 3",
   "language": "python",
   "name": "python3"
  },
  "language_info": {
   "codemirror_mode": {
    "name": "ipython",
    "version": 3
   },
   "file_extension": ".py",
   "mimetype": "text/x-python",
   "name": "python",
   "nbconvert_exporter": "python",
   "pygments_lexer": "ipython3",
   "version": "3.7.4"
  }
 },
 "nbformat": 4,
 "nbformat_minor": 2
}
